{
  "cells": [
    {
      "cell_type": "code",
      "execution_count": null,
      "metadata": {
        "collapsed": false
      },
      "outputs": [],
      "source": [
        "%matplotlib inline"
      ]
    },
    {
      "cell_type": "markdown",
      "metadata": {},
      "source": [
        "\nIO Tutorial\n===========\n\nThis notebook is designed to demonstrate the pynapple IO. It is build around the specifications of the [BIDS standard](https://bids-standard.github.io/bids-starter-kit/index.html) for sharing datasets. The key ideas are summarized as follow :\n\n- [Hierarchy of folders](https://bids-standard.github.io/bids-starter-kit/folders_and_files/folders.html)\n    \n    ![Image title](../../_static/BIDS_Folders.png){ align=left }\n    \n- [Filename template](https://bids-standard.github.io/bids-starter-kit/folders_and_files/files.html)\n\n    ![Image title](../../_static/BIDS_Files.png){ align=left }\n\n- [Metadata files](https://bids-standard.github.io/bids-starter-kit/folders_and_files/metadata.html)\n    \n    ![Image title](../../_static/BIDS_Metadata.png){ align=left }\n"
      ]
    },
    {
      "cell_type": "markdown",
      "metadata": {},
      "source": [
        "***\nNavigating a structured dataset\n-------------------------------\n\nThe dataset in this example can be found [here](https://www.dropbox.com/s/pr1ze1nuiwk8kw9/MyProject.zip?dl=1).\n\n"
      ]
    },
    {
      "cell_type": "code",
      "execution_count": null,
      "metadata": {
        "collapsed": false
      },
      "outputs": [],
      "source": [
        "import numpy as np\nimport pynapple as nap\n\n# mkdocs_gallery_thumbnail_path = '_static/treeview.png'\n\nproject_path = \"../../your/path/to/MyProject\"\n\nproject = nap.load_folder(project_path)\n\nprint(project)"
      ]
    },
    {
      "cell_type": "markdown",
      "metadata": {},
      "source": [
        "The pynapple IO offers a convenient way of visualizing and navigating a folder based dataset. To visualize the whole hierarchy of Folders, you can call the view property or the expand function.\n\n"
      ]
    },
    {
      "cell_type": "code",
      "execution_count": null,
      "metadata": {
        "collapsed": false
      },
      "outputs": [],
      "source": [
        "project.view"
      ]
    },
    {
      "cell_type": "markdown",
      "metadata": {},
      "source": [
        "Here it shows all the subjects (in this case only A2929), all the sessions and all of the derivatives folders. It shows as well all the NPZ files that contains a pynapple object and the NWB files.\n\nThe object project behaves like a nested dictionnary. It is then easy to loop and navigate through a hierarchy of folders when doing analyses. In this case, we are gonna take only the session A2929-200711.\n\n"
      ]
    },
    {
      "cell_type": "code",
      "execution_count": null,
      "metadata": {
        "collapsed": false
      },
      "outputs": [],
      "source": [
        "session = project[\"sub-A2929\"][\"ses-A2929-200711\"]\n\nprint(session)"
      ]
    },
    {
      "cell_type": "markdown",
      "metadata": {},
      "source": [
        "I can expand to see what the folders contains.\n\n"
      ]
    },
    {
      "cell_type": "code",
      "execution_count": null,
      "metadata": {
        "collapsed": false
      },
      "outputs": [],
      "source": [
        "print(session.expand())"
      ]
    },
    {
      "cell_type": "markdown",
      "metadata": {},
      "source": [
        "***\nLoading files\n-------------\n\nBy default, pynapple save objects as NPZ. It is a convenient way to save all the properties of an object such as the time support. The pynapple IO offers an easy way to load any NPZ files that matches the structures defined for a pynapple object.\n\n"
      ]
    },
    {
      "cell_type": "code",
      "execution_count": null,
      "metadata": {
        "collapsed": false
      },
      "outputs": [],
      "source": [
        "spikes = session[\"derivatives\"][\"spikes\"]\nposition = session[\"derivatives\"][\"position\"]\nwake_ep = session[\"derivatives\"][\"wake_ep\"]\nsleep_ep = session[\"derivatives\"][\"sleep_ep\"]"
      ]
    },
    {
      "cell_type": "markdown",
      "metadata": {},
      "source": [
        "Objects are only loaded when they are called.\n\n"
      ]
    },
    {
      "cell_type": "code",
      "execution_count": null,
      "metadata": {
        "collapsed": false
      },
      "outputs": [],
      "source": [
        "print(session[\"derivatives\"][\"spikes\"])"
      ]
    },
    {
      "cell_type": "markdown",
      "metadata": {},
      "source": [
        "***\nMetadata\n--------\n\nA good practice for sharing datasets is to write as many metainformation as possible. Following BIDS specifications, any data files should be accompagned by a JSON sidecar file.\n\n"
      ]
    },
    {
      "cell_type": "code",
      "execution_count": null,
      "metadata": {
        "collapsed": false
      },
      "outputs": [],
      "source": [
        "import os\n\nfor f in os.listdir(session[\"derivatives\"].path):\n    print(f)"
      ]
    },
    {
      "cell_type": "markdown",
      "metadata": {},
      "source": [
        "To read the metainformation associated with a file, you can use the functions `doc`, `info` or `metadata` :\n\n"
      ]
    },
    {
      "cell_type": "code",
      "execution_count": null,
      "metadata": {
        "collapsed": false
      },
      "outputs": [],
      "source": [
        "session[\"derivatives\"].doc(\"spikes\")\n\n\nsession[\"derivatives\"].doc(\"position\")"
      ]
    },
    {
      "cell_type": "markdown",
      "metadata": {},
      "source": [
        "***\nSaving a pynapple object\n------------------------\n\nIn this case, we define a new Tsd and a new IntervalSet that we would like to save in the session folder.\n\n"
      ]
    },
    {
      "cell_type": "code",
      "execution_count": null,
      "metadata": {
        "collapsed": false
      },
      "outputs": [],
      "source": [
        "tsd = position[\"x\"] + 1\nepoch = nap.IntervalSet(start=np.array([0, 3]), end=np.array([1, 6]))\n\nsession.save(\"x_plus_1\", tsd, description=\"Random position\")\nsession.save(\"stimulus-fish\", epoch, description=\"Fish pictures to V1\")"
      ]
    },
    {
      "cell_type": "markdown",
      "metadata": {},
      "source": [
        "We can visualize the newly saved objects.\n\n"
      ]
    },
    {
      "cell_type": "code",
      "execution_count": null,
      "metadata": {
        "collapsed": false
      },
      "outputs": [],
      "source": [
        "session.expand()"
      ]
    },
    {
      "cell_type": "code",
      "execution_count": null,
      "metadata": {
        "collapsed": false
      },
      "outputs": [],
      "source": [
        "session.doc(\"stimulus-fish\")"
      ]
    },
    {
      "cell_type": "code",
      "execution_count": null,
      "metadata": {
        "collapsed": false
      },
      "outputs": [],
      "source": [
        "session[\"x_plus_1\"]"
      ]
    }
  ],
  "metadata": {
    "kernelspec": {
      "display_name": "Python 3",
      "language": "python",
      "name": "python3"
    },
    "language_info": {
      "codemirror_mode": {
        "name": "ipython",
        "version": 3
      },
      "file_extension": ".py",
      "mimetype": "text/x-python",
      "name": "python",
      "nbconvert_exporter": "python",
      "pygments_lexer": "ipython3",
      "version": "3.10.12"
    }
  },
  "nbformat": 4,
  "nbformat_minor": 0
}