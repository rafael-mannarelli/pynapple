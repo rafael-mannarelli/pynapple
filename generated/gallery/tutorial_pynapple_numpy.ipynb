{
  "cells": [
    {
      "cell_type": "code",
      "execution_count": null,
      "metadata": {
        "collapsed": false
      },
      "outputs": [],
      "source": [
        "%matplotlib inline"
      ]
    },
    {
      "cell_type": "markdown",
      "metadata": {},
      "source": [
        "\nNumpy tutorial\n=======================\n\nThis tutorial shows how pynapple interact with numpy.\n"
      ]
    },
    {
      "cell_type": "code",
      "execution_count": null,
      "metadata": {
        "collapsed": false
      },
      "outputs": [],
      "source": [
        "import numpy as np\nimport pynapple as nap\nimport pandas as pd"
      ]
    },
    {
      "cell_type": "markdown",
      "metadata": {},
      "source": [
        "Multiple time series object are avaible depending on the shape of the data.\n\n- `TsdTensor` : for data with of more than 2 dimensions, typically movies.\n- `TsdFrame` : for column-based data. It can be easily converted to a pandas.DataFrame. Columns can be labelled and selected similar to pandas.\n- `Tsd` : One-dimensional time series. It can be converted to a pandas.Series.\n- `Ts` : For timestamps data only.\n\n"
      ]
    },
    {
      "cell_type": "markdown",
      "metadata": {},
      "source": [
        "Initialization\n--------------\n\n"
      ]
    },
    {
      "cell_type": "code",
      "execution_count": null,
      "metadata": {
        "collapsed": false
      },
      "outputs": [],
      "source": [
        "tsdtensor = nap.TsdTensor(t=np.arange(100), d=np.random.rand(100, 5, 5), time_units=\"s\")\ntsdframe = nap.TsdFrame(t=np.arange(100), d=np.random.rand(100, 3), columns = ['a', 'b', 'c'])\ntsd = nap.Tsd(t=np.arange(100), d=np.random.rand(100))\nts = nap.Ts(t=np.arange(100))\n\nprint(tsdtensor)"
      ]
    },
    {
      "cell_type": "markdown",
      "metadata": {},
      "source": [
        "tsd and ts can be converted to a pandas.Series\n\n"
      ]
    },
    {
      "cell_type": "code",
      "execution_count": null,
      "metadata": {
        "collapsed": false
      },
      "outputs": [],
      "source": [
        "print(tsd.as_series())"
      ]
    },
    {
      "cell_type": "markdown",
      "metadata": {},
      "source": [
        "tsdframe to a pandas.DataFrame\n\n"
      ]
    },
    {
      "cell_type": "code",
      "execution_count": null,
      "metadata": {
        "collapsed": false
      },
      "outputs": [],
      "source": [
        "print(tsdframe.as_dataframe())"
      ]
    },
    {
      "cell_type": "markdown",
      "metadata": {},
      "source": [
        "Attributes\n----------\nThe numpy array is accesible with the attributes `.values`, `.d` and functions `.as_array()`, `to_numpy()`.\nThe time index array is a `TsIndex` object accessible with `.index` or `.t`.\n`.shape` and `.ndim` are also accessible.\n\n"
      ]
    },
    {
      "cell_type": "code",
      "execution_count": null,
      "metadata": {
        "collapsed": false
      },
      "outputs": [],
      "source": [
        "print(tsdtensor.ndim)\nprint(tsdframe.shape)\nprint(len(tsd))"
      ]
    },
    {
      "cell_type": "markdown",
      "metadata": {},
      "source": [
        "Slicing\n-------\nSlicing is very similar to numpy array. The first dimension is always time and time support is always passed on if a pynapple object is returned.\n\nFirst 10 elements. Return a TsdTensor\n\n"
      ]
    },
    {
      "cell_type": "code",
      "execution_count": null,
      "metadata": {
        "collapsed": false
      },
      "outputs": [],
      "source": [
        "print(tsdtensor[0:10])"
      ]
    },
    {
      "cell_type": "markdown",
      "metadata": {},
      "source": [
        "First column. Return a Tsd\n\n"
      ]
    },
    {
      "cell_type": "code",
      "execution_count": null,
      "metadata": {
        "collapsed": false
      },
      "outputs": [],
      "source": [
        "print(tsdframe[:,0])"
      ]
    },
    {
      "cell_type": "markdown",
      "metadata": {},
      "source": [
        "First element. Return a numpy ndarray\n\n"
      ]
    },
    {
      "cell_type": "code",
      "execution_count": null,
      "metadata": {
        "collapsed": false
      },
      "outputs": [],
      "source": [
        "print(tsdtensor[0])"
      ]
    },
    {
      "cell_type": "markdown",
      "metadata": {},
      "source": [
        "The time support is never changing when slicing time down.\n\n"
      ]
    },
    {
      "cell_type": "code",
      "execution_count": null,
      "metadata": {
        "collapsed": false
      },
      "outputs": [],
      "source": [
        "print(tsd.time_support)\nprint(tsd[0:20].time_support)"
      ]
    },
    {
      "cell_type": "markdown",
      "metadata": {},
      "source": [
        "TsdFrame offers special slicing similar to pandas.DataFrame.\n\nOnly TsdFrame can have columns labelling and indexing.\n\n"
      ]
    },
    {
      "cell_type": "code",
      "execution_count": null,
      "metadata": {
        "collapsed": false
      },
      "outputs": [],
      "source": [
        "print(tsdframe.loc['a'])\nprint(tsdframe.loc[['a', 'c']])"
      ]
    },
    {
      "cell_type": "markdown",
      "metadata": {},
      "source": [
        "Arithmetic\n----------\nArithmetical operations works similar to numpy\n\n"
      ]
    },
    {
      "cell_type": "code",
      "execution_count": null,
      "metadata": {
        "collapsed": false
      },
      "outputs": [],
      "source": [
        "tsd = nap.Tsd(t=np.arange(5), d=np.ones(5))\nprint(tsd + 1)"
      ]
    },
    {
      "cell_type": "markdown",
      "metadata": {},
      "source": [
        "It is possible to do array operations on the time series provided that the dimensions matches.\nThe output will still be a time series object.\n\n"
      ]
    },
    {
      "cell_type": "code",
      "execution_count": null,
      "metadata": {
        "collapsed": false
      },
      "outputs": [],
      "source": [
        "print(tsd - np.ones(5))"
      ]
    },
    {
      "cell_type": "markdown",
      "metadata": {},
      "source": [
        "Nevertheless operations like this are not permitted :\n\n"
      ]
    },
    {
      "cell_type": "code",
      "execution_count": null,
      "metadata": {
        "collapsed": false
      },
      "outputs": [],
      "source": [
        "try:\n\ttsd + tsd\nexcept Exception as error:\n\tprint(error)"
      ]
    },
    {
      "cell_type": "markdown",
      "metadata": {},
      "source": [
        "Array operations\n----------------\nThe most common numpy functions will return a time series if the output first dimension matches the shape of the time index.\n\nHere i average along the time axis and get a numpy array.\n\n"
      ]
    },
    {
      "cell_type": "code",
      "execution_count": null,
      "metadata": {
        "collapsed": false
      },
      "outputs": [],
      "source": [
        "print(np.mean(tsdtensor, 0))"
      ]
    },
    {
      "cell_type": "markdown",
      "metadata": {},
      "source": [
        "Here I average across the second dimension and get a TsdFrame\n\n"
      ]
    },
    {
      "cell_type": "code",
      "execution_count": null,
      "metadata": {
        "collapsed": false
      },
      "outputs": [],
      "source": [
        "print(np.mean(tsdtensor, 1))"
      ]
    },
    {
      "cell_type": "markdown",
      "metadata": {},
      "source": [
        "This is not true for fft functions though.\n\n"
      ]
    },
    {
      "cell_type": "code",
      "execution_count": null,
      "metadata": {
        "collapsed": false
      },
      "outputs": [],
      "source": [
        "try:\n\tnp.fft.fft(tsd)\nexcept Exception as error:\n\tprint(error)"
      ]
    },
    {
      "cell_type": "markdown",
      "metadata": {},
      "source": [
        "Concatenating\n-------------\nIt is possible to concatenate time series providing than they don't overlap meaning time indexe should be already sorted through all time series to concatenate\n\n"
      ]
    },
    {
      "cell_type": "code",
      "execution_count": null,
      "metadata": {
        "collapsed": false
      },
      "outputs": [],
      "source": [
        "tsd1 = nap.Tsd(t=np.arange(5), d=np.ones(5))\ntsd2 = nap.Tsd(t=np.arange(5)+10, d=np.ones(5)*2)\ntsd3 = nap.Tsd(t=np.arange(5)+20, d=np.ones(5)*3)\n\nprint(np.concatenate((tsd1, tsd2, tsd3)))"
      ]
    },
    {
      "cell_type": "markdown",
      "metadata": {},
      "source": [
        "It's also possible to concatenate vertically if time indexes matches up to pynapple float precision\n\n"
      ]
    },
    {
      "cell_type": "code",
      "execution_count": null,
      "metadata": {
        "collapsed": false
      },
      "outputs": [],
      "source": [
        "tsdframe = nap.TsdFrame(t=np.arange(5), d=np.random.randn(5, 3))\n\nprint(np.concatenate((tsdframe, tsdframe), 1))"
      ]
    },
    {
      "cell_type": "markdown",
      "metadata": {},
      "source": [
        "Spliting\n--------\nArray split functions are also implemented\n\n"
      ]
    },
    {
      "cell_type": "code",
      "execution_count": null,
      "metadata": {
        "collapsed": false
      },
      "outputs": [],
      "source": [
        "print(np.array_split(tsdtensor[0:10], 2))"
      ]
    },
    {
      "cell_type": "markdown",
      "metadata": {},
      "source": [
        "Modifying\n---------\nIt is possible to modify a time series element wise\n\n"
      ]
    },
    {
      "cell_type": "code",
      "execution_count": null,
      "metadata": {
        "collapsed": false
      },
      "outputs": [],
      "source": [
        "print(tsd1)\n\ntsd1[0] = np.pi\n\nprint(tsd1)"
      ]
    },
    {
      "cell_type": "markdown",
      "metadata": {},
      "source": [
        "It is also possible to modify a time series with logical operations\n\n"
      ]
    },
    {
      "cell_type": "code",
      "execution_count": null,
      "metadata": {
        "collapsed": false
      },
      "outputs": [],
      "source": [
        "tsd[tsd.values>0.5] = 0.0\n\nprint(tsd)"
      ]
    },
    {
      "cell_type": "markdown",
      "metadata": {},
      "source": [
        "Sorting\n---------\nIt is not possible to sort along the first dimension as it would break the sorting of the time index\n\n"
      ]
    },
    {
      "cell_type": "code",
      "execution_count": null,
      "metadata": {
        "collapsed": false
      },
      "outputs": [],
      "source": [
        "tsd = nap.Tsd(t=np.arange(100), d=np.random.rand(100))\n\ntry:\n\tnp.sort(tsd)\nexcept Exception as error:\n\tprint(error)"
      ]
    }
  ],
  "metadata": {
    "kernelspec": {
      "display_name": "Python 3",
      "language": "python",
      "name": "python3"
    },
    "language_info": {
      "codemirror_mode": {
        "name": "ipython",
        "version": 3
      },
      "file_extension": ".py",
      "mimetype": "text/x-python",
      "name": "python",
      "nbconvert_exporter": "python",
      "pygments_lexer": "ipython3",
      "version": "3.10.12"
    }
  },
  "nbformat": 4,
  "nbformat_minor": 0
}