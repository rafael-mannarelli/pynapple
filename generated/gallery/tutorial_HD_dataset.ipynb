{
  "cells": [
    {
      "cell_type": "code",
      "execution_count": null,
      "metadata": {
        "collapsed": false
      },
      "outputs": [],
      "source": [
        "%matplotlib inline"
      ]
    },
    {
      "cell_type": "markdown",
      "metadata": {},
      "source": [
        "\nPeyrache et al (2015) Tutorial\n============\n\nThis tutorial demonstrates how we use Pynapple to generate Figure 4a in the [publication](https://elifesciences.org/reviewed-preprints/85786).\nThe NWB file for the example is hosted on [OSF](https://osf.io/jb2gd). We show below how to stream it.\nThe entire dataset can be downloaded [here](https://dandiarchive.org/dandiset/000056).\n\nSee the [documentation](https://pynapple-org.github.io/pynapple/) of Pynapple for instructions on installing the package.\n\nThis tutorial was made by Dhruv Mehrotra and Guillaume Viejo.\n"
      ]
    },
    {
      "cell_type": "markdown",
      "metadata": {},
      "source": [
        "!!! warning\n    This tutorial uses seaborn and matplotlib for displaying the figure\n\n    You can install all with `pip install matplotlib seaborn tqdm`\n\nmkdocs_gallery_thumbnail_number = 2\n\nNow, import the necessary libraries:\n\n"
      ]
    },
    {
      "cell_type": "code",
      "execution_count": null,
      "metadata": {
        "collapsed": false
      },
      "outputs": [],
      "source": [
        "import numpy as np\nimport pandas as pd\nimport pynapple as nap\nimport scipy.ndimage\nimport matplotlib.pyplot as plt\nimport seaborn as sns\nimport requests, math, os\nimport tqdm\n\ncustom_params = {\"axes.spines.right\": False, \"axes.spines.top\": False}\nsns.set_theme(style=\"ticks\", palette=\"colorblind\", font_scale=1.5, rc=custom_params)"
      ]
    },
    {
      "cell_type": "markdown",
      "metadata": {},
      "source": [
        "***\nDownloading the data\n------------------\n\nIt's a small NWB file.\n\n"
      ]
    },
    {
      "cell_type": "code",
      "execution_count": null,
      "metadata": {
        "collapsed": false
      },
      "outputs": [],
      "source": [
        "path = \"Mouse32-140822.nwb\"\nif path not in os.listdir(\".\"):\n    r = requests.get(f\"https://osf.io/jb2gd/download\", stream=True)\n    block_size = 1024*1024\n    with open(path, 'wb') as f:\n        for data in tqdm.tqdm(r.iter_content(block_size), unit='MB', unit_scale=True,\n            total=math.ceil(int(r.headers.get('content-length', 0))//block_size)):\n            f.write(data)"
      ]
    },
    {
      "cell_type": "markdown",
      "metadata": {},
      "source": [
        "***\nParsing the data\n------------------\n\nThe first step is to load the data and other relevant variables of interest\n\n"
      ]
    },
    {
      "cell_type": "code",
      "execution_count": null,
      "metadata": {
        "collapsed": false
      },
      "outputs": [],
      "source": [
        "data = nap.load_file(path)  # Load the NWB file for this dataset"
      ]
    },
    {
      "cell_type": "markdown",
      "metadata": {},
      "source": [
        "What does this look like ?\n\n"
      ]
    },
    {
      "cell_type": "code",
      "execution_count": null,
      "metadata": {
        "collapsed": false
      },
      "outputs": [],
      "source": [
        "print(data)"
      ]
    },
    {
      "cell_type": "markdown",
      "metadata": {},
      "source": [
        "***\nHead-Direction Tuning Curves\n------------------\n\nTo plot Head-Direction Tuning curves, we need the spike timings and the orientation of the animal. These quantities are stored in the variables 'units' and 'ry'.\n\n"
      ]
    },
    {
      "cell_type": "code",
      "execution_count": null,
      "metadata": {
        "collapsed": false
      },
      "outputs": [],
      "source": [
        "spikes = data[\"units\"]  # Get spike timings\nepochs = data[\"epochs\"]  # Get the behavioural epochs (in this case, sleep and wakefulness)\nangle = data[\"ry\"]  # Get the tracked orientation of the animal"
      ]
    },
    {
      "cell_type": "markdown",
      "metadata": {},
      "source": [
        "What does this look like ?\n\n"
      ]
    },
    {
      "cell_type": "code",
      "execution_count": null,
      "metadata": {
        "collapsed": false
      },
      "outputs": [],
      "source": [
        "print(spikes)"
      ]
    },
    {
      "cell_type": "markdown",
      "metadata": {},
      "source": [
        "Here, rate is the mean firing rate of the unit. Location indicates the brain region the unit was recorded from, and group refers to the shank number on which the cell was located.\n\nThis dataset contains units recorded from the anterior thalamus. Head-direction (HD) cells are found in the anterodorsal nucleus of the thalamus (henceforth referred to as ADn). Units were also recorded from nearby thalamic nuclei in this animal. For the purposes of our tutorial, we are interested in the units recorded in ADn. We can restrict ourselves to analysis of these units rather easily, using Pynapple.\n\n"
      ]
    },
    {
      "cell_type": "code",
      "execution_count": null,
      "metadata": {
        "collapsed": false
      },
      "outputs": [],
      "source": [
        "spikes_adn = spikes.getby_category(\"location\")[\"adn\"]  # Select only those units that are in ADn"
      ]
    },
    {
      "cell_type": "markdown",
      "metadata": {},
      "source": [
        "What does this look like ?\n\n"
      ]
    },
    {
      "cell_type": "code",
      "execution_count": null,
      "metadata": {
        "collapsed": false
      },
      "outputs": [],
      "source": [
        "print(spikes_adn)"
      ]
    },
    {
      "cell_type": "markdown",
      "metadata": {},
      "source": [
        "Let's compute some head-direction tuning curves. To do this in Pynapple, all you need is a single line of code!\n\nPlot firing rate of ADn units as a function of heading direction, i.e. a head-direction tuning curve\n\n"
      ]
    },
    {
      "cell_type": "code",
      "execution_count": null,
      "metadata": {
        "collapsed": false
      },
      "outputs": [],
      "source": [
        "tuning_curves = nap.compute_1d_tuning_curves(\n    group=spikes_adn, \n    feature=angle, \n    nb_bins=61, \n    ep = epochs['wake'],\n    minmax=(0, 2 * np.pi)\n    )"
      ]
    },
    {
      "cell_type": "markdown",
      "metadata": {},
      "source": [
        "What does this look like ?\n\n"
      ]
    },
    {
      "cell_type": "code",
      "execution_count": null,
      "metadata": {
        "collapsed": false
      },
      "outputs": [],
      "source": [
        "print(tuning_curves)"
      ]
    },
    {
      "cell_type": "markdown",
      "metadata": {},
      "source": [
        "Each row indicates an angular bin (in radians), and each column corresponds to a single unit. Let's compute the preferred angle quickly as follows:\n\n"
      ]
    },
    {
      "cell_type": "code",
      "execution_count": null,
      "metadata": {
        "collapsed": false
      },
      "outputs": [],
      "source": [
        "pref_ang = tuning_curves.idxmax()"
      ]
    },
    {
      "cell_type": "markdown",
      "metadata": {},
      "source": [
        "For easier visualization, we will colour our plots according to the preferred angle of the cell. To do so, we will normalize the range of angles we have, over a colourmap.\n\n"
      ]
    },
    {
      "cell_type": "code",
      "execution_count": null,
      "metadata": {
        "collapsed": false
      },
      "outputs": [],
      "source": [
        "norm = plt.Normalize()  # Normalizes data into the range [0,1]\ncolor = plt.cm.hsv(norm([i / (2 * np.pi) for i in pref_ang.values]))  # Assigns a colour in the HSV colourmap for each value of preferred angle\ncolor = pd.DataFrame(index=pref_ang.index, data = color, columns = ['r', 'g', 'b', 'a'])"
      ]
    },
    {
      "cell_type": "markdown",
      "metadata": {},
      "source": [
        "To make the tuning curves look nice, we will smooth them before plotting, using this custom function:\n\n"
      ]
    },
    {
      "cell_type": "code",
      "execution_count": null,
      "metadata": {
        "collapsed": false
      },
      "outputs": [],
      "source": [
        "from scipy.ndimage import gaussian_filter1d\ndef smoothAngularTuningCurves(tuning_curves, sigma=2):\n\n    tmp = np.concatenate((tuning_curves.values, tuning_curves.values, tuning_curves.values))\n    tmp = gaussian_filter1d(tmp, sigma=sigma, axis=0)\n\n    return pd.DataFrame(index = tuning_curves.index,\n        data = tmp[tuning_curves.shape[0]:tuning_curves.shape[0]*2], \n        columns = tuning_curves.columns\n        )"
      ]
    },
    {
      "cell_type": "markdown",
      "metadata": {},
      "source": [
        "Therefore, we have:\n\n"
      ]
    },
    {
      "cell_type": "code",
      "execution_count": null,
      "metadata": {
        "collapsed": false
      },
      "outputs": [],
      "source": [
        "smoothcurves = smoothAngularTuningCurves(tuning_curves, sigma=3)"
      ]
    },
    {
      "cell_type": "markdown",
      "metadata": {},
      "source": [
        "What does this look like? Let's plot the tuning curves!\n\n"
      ]
    },
    {
      "cell_type": "code",
      "execution_count": null,
      "metadata": {
        "collapsed": false
      },
      "outputs": [],
      "source": [
        "plt.figure(figsize=(12, 9))\nfor i, n in enumerate(pref_ang.sort_values().index.values):\n    plt.subplot(8, 4, i + 1, projection='polar')  # Plot the curves in 8 rows and 4 columns\n    plt.plot(\n        smoothcurves[n], color=color.loc[n]\n    )  # Colour of the curves determined by preferred angle    \n    plt.xlabel(\"Angle (rad)\")  # Angle in radian, on the X-axis\n    plt.ylabel(\"Firing Rate (Hz)\")  # Firing rate in Hz, on the Y-axis\n    plt.xticks([])\nplt.show()"
      ]
    },
    {
      "cell_type": "markdown",
      "metadata": {},
      "source": [
        "Awesome!\n\n"
      ]
    },
    {
      "cell_type": "markdown",
      "metadata": {},
      "source": [
        "***\nDecoding\n------------------\n\nNow that we have HD tuning curves, we can go one step further. Using only the population activity of ADn units, we can decode the direction the animal is looking in. We will then compare this to the real head direction of the animal, and discover that population activity in the ADn indeed codes for HD.\n\nTo decode the population activity, we will be using a Bayesian Decoder as implemented in Pynapple. Just a single line of code!\n\n"
      ]
    },
    {
      "cell_type": "code",
      "execution_count": null,
      "metadata": {
        "collapsed": false
      },
      "outputs": [],
      "source": [
        "decoded, proba_feature = nap.decode_1d(\n    tuning_curves=tuning_curves,\n    group=spikes_adn,\n    ep=epochs[\"wake\"],\n    bin_size=0.1,  # second\n    feature=angle,\n)"
      ]
    },
    {
      "cell_type": "markdown",
      "metadata": {},
      "source": [
        "What does this look like ?\n\n"
      ]
    },
    {
      "cell_type": "code",
      "execution_count": null,
      "metadata": {
        "collapsed": false
      },
      "outputs": [],
      "source": [
        "print(decoded)"
      ]
    },
    {
      "cell_type": "markdown",
      "metadata": {},
      "source": [
        "The variable 'decoded' indicates the most probable angle in which the animal was looking. There is another variable, 'proba_feature' that denotes the probability of a given angular bin at a given time point. We can look at it below:\n\n"
      ]
    },
    {
      "cell_type": "code",
      "execution_count": null,
      "metadata": {
        "collapsed": false
      },
      "outputs": [],
      "source": [
        "print(proba_feature.as_dataframe())"
      ]
    },
    {
      "cell_type": "markdown",
      "metadata": {},
      "source": [
        "Each row of this pandas DataFrame is a time bin, and each column is an angular bin. The sum of all values in a row add up to 1.\n\nNow, let's plot the raster plot for a given period of time, and overlay the actual and decoded HD on the population activity.\n\n"
      ]
    },
    {
      "cell_type": "code",
      "execution_count": null,
      "metadata": {
        "collapsed": false
      },
      "outputs": [],
      "source": [
        "ep = nap.IntervalSet(\n    start=10717, end=10730\n)  # Select an arbitrary interval for plotting\n\nplt.figure()\nplt.rc(\"font\", size=12)\nfor i, n in enumerate(spikes_adn.keys()):\n    plt.plot(\n        spikes[n].restrict(ep).fillna(pref_ang[n]), \"|\", color=color.loc[n]\n    )  # raster plot for each cell\nplt.plot(\n    decoded.restrict(ep), \"--\", color=\"grey\", linewidth=2, label=\"decoded HD\"\n)  # decoded HD\nplt.legend(loc=\"upper left\")"
      ]
    },
    {
      "cell_type": "markdown",
      "metadata": {},
      "source": [
        "From this plot, we can see that the decoder is able to estimate the head-direction based on the population activity in ADn. Amazing!\n\nWhat does the probability distribution in this example event look like?\nIdeally, the bins with the highest probability will correspond to the bins having the most spikes. Let's plot the probability matrix to visualize this.\n\n"
      ]
    },
    {
      "cell_type": "code",
      "execution_count": null,
      "metadata": {
        "collapsed": false
      },
      "outputs": [],
      "source": [
        "smoothed = scipy.ndimage.gaussian_filter(\n    proba_feature, 1\n)  # Smoothening the probability distribution\n\n# Create a DataFrame with the smoothed distribution\np_feature = pd.DataFrame(\n    index=proba_feature.index.values,\n    columns=proba_feature.columns.values,\n    data=smoothed,\n)\np_feature = nap.TsdFrame(p_feature)  # Make it a Pynapple TsdFrame\n\nplt.figure()\nplt.plot(\n    angle.restrict(ep), \"w\", linewidth=2, label=\"actual HD\", zorder=1\n)  # Actual HD, in white\nplt.plot(\n    decoded.restrict(ep), \"--\", color=\"grey\", linewidth=2, label=\"decoded HD\", zorder=1\n)  # Decoded HD, in grey\n\n# Plot the smoothed probability distribution\nplt.imshow(\n    np.transpose(p_feature.restrict(ep).values),\n    aspect=\"auto\",\n    interpolation=\"bilinear\",\n    extent=[ep[\"start\"][0], ep[\"end\"][0], 0, 2 * np.pi],\n    origin=\"lower\",\n    cmap=\"viridis\",\n)\n\nplt.xlabel(\"Time (s)\")  # X-axis is time in seconds\nplt.ylabel(\"Angle (rad)\")  # Y-axis is the angle in radian\nplt.colorbar(label=\"probability\")"
      ]
    },
    {
      "cell_type": "markdown",
      "metadata": {},
      "source": [
        "From this probability distribution, we observe that the decoded HD very closely matches the actual HD. Therefore, the population activity in ADn is a reliable estimate of the heading direction of the animal.\n\nI hope this tutorial was helpful. If you have any questions, comments or suggestions, please feel free to reach out to the Pynapple Team!\n\n"
      ]
    }
  ],
  "metadata": {
    "kernelspec": {
      "display_name": "Python 3",
      "language": "python",
      "name": "python3"
    },
    "language_info": {
      "codemirror_mode": {
        "name": "ipython",
        "version": 3
      },
      "file_extension": ".py",
      "mimetype": "text/x-python",
      "name": "python",
      "nbconvert_exporter": "python",
      "pygments_lexer": "ipython3",
      "version": "3.10.12"
    }
  },
  "nbformat": 4,
  "nbformat_minor": 0
}