{
  "cells": [
    {
      "cell_type": "code",
      "execution_count": null,
      "metadata": {
        "collapsed": false
      },
      "outputs": [],
      "source": [
        "%matplotlib inline"
      ]
    },
    {
      "cell_type": "markdown",
      "metadata": {},
      "source": [
        "\nQuick start\n===========\n\nThe examplar data to replicate the figure in the jupyter notebook can be found [here](https://www.dropbox.com/s/su4oaje57g3kit9/A2929-200711.zip?dl=1). \n\nThe data contains a sample recordings taken simultaneously from the anterodorsal thalamus and the hippocampus and contains both a sleep and wake session. It contains both head-direction cells (i.e. cells that fire for a particular head direction in the horizontal plane) and place cells (i.e. cells that fire for a particular position in the environment).\n\nPreprocessing of the data was made with [Kilosort 2.0](https://github.com/MouseLand/Kilosort) and spike sorting was made with [Klusters](http://neurosuite.sourceforge.net/).\n\nInstructions for installing pynapple can be found [here](https://pynapple-org.github.io/pynapple/#installation).\n\n***\n\nThis notebook is meant to provide an overview of pynapple by going through:\n\n- **Input output (IO)**. In this case, pynapple will load a NWB file using the [NWBFile object](https://pynapple-org.github.io/pynapple/io.nwb/) within a project [Folder](https://pynapple-org.github.io/pynapple/io.folder/) that represent a dataset. \n- **Core functions** that handle time series, interval sets and groups of time series. See this [notebook](https://pynapple-org.github.io/pynapple/notebooks/pynapple-core-notebook/) for a detailled usage of the core functions.\n- **Process functions**. A small collection of high-level functions widely used in system neuroscience. This [notebook](https://pynapple-org.github.io/pynapple/notebooks/pynapple-process-notebook/) details those functions.\n"
      ]
    },
    {
      "cell_type": "markdown",
      "metadata": {},
      "source": [
        "!!! warning\n    This tutorial uses seaborn and matplotlib for displaying the figure.\n\n    You can install both with `pip install matplotlib seaborn`\n\n"
      ]
    },
    {
      "cell_type": "code",
      "execution_count": null,
      "metadata": {
        "collapsed": false
      },
      "outputs": [],
      "source": [
        "import numpy as np\nimport pandas as pd\nimport pynapple as nap\nimport matplotlib.pyplot as plt\nimport seaborn as sns\n\ncustom_params = {\"axes.spines.right\": False, \"axes.spines.top\": False}\nsns.set_theme(style=\"ticks\", palette=\"colorblind\", font_scale=1.5, rc=custom_params)"
      ]
    },
    {
      "cell_type": "markdown",
      "metadata": {},
      "source": [
        "***\nIO\n-----------------\nThe first step is to give the path to the data folder.\n\n"
      ]
    },
    {
      "cell_type": "code",
      "execution_count": null,
      "metadata": {
        "collapsed": false
      },
      "outputs": [],
      "source": [
        "DATA_DIRECTORY = \"../../your/path/to/MyProject/\""
      ]
    },
    {
      "cell_type": "markdown",
      "metadata": {},
      "source": [
        "We can load the session with the function [load_folder](https://pynapple-org.github.io/pynapple/io/#pynapple.io.misc.load_folder). Pynapple will walks throught the folder and collects every subfolders.\nWe can use the attribute `view` or the function `expand` to display a tree view of the dataset. The treeview shows all the compatible data format (i.e npz files or NWBs files) and their equivalent pynapple type.\n\n"
      ]
    },
    {
      "cell_type": "code",
      "execution_count": null,
      "metadata": {
        "collapsed": false
      },
      "outputs": [],
      "source": [
        "data = nap.load_folder(DATA_DIRECTORY)\ndata.view"
      ]
    },
    {
      "cell_type": "markdown",
      "metadata": {},
      "source": [
        "The object `data` is a [`Folder`](https://pynapple-org.github.io/pynapple/io.folder/) object that allows easy navigation and interaction with a dataset.\nIn this case, we want to load the NWB file in the folder `/pynapplenwb`. Data are always lazy loaded. No time series is loaded until it's actually called.\nWhen calling the NWB file, the object `nwb` is an interface to the NWB file. All the data inside the NWB file that are compatible with one of the pynapple objects are shown with their corresponding keys.\n\n"
      ]
    },
    {
      "cell_type": "code",
      "execution_count": null,
      "metadata": {
        "collapsed": false
      },
      "outputs": [],
      "source": [
        "nwb = data[\"sub-A2929\"][\"ses-A2929-200711\"][\"pynapplenwb\"][\"A2929-200711\"]\nprint(nwb)"
      ]
    },
    {
      "cell_type": "markdown",
      "metadata": {},
      "source": [
        "We can individually call each object and they are actually loaded.\n\n`units` is a [TsGroup](https://pynapple-org.github.io/pynapple/core.ts_group/) object. It allows to group together time series with different timestamps and couple metainformation to each neuron. In this case, the location of where the neuron was recorded has been added when loading the session for the first time.\nWe load `units` as `spikes`\n\n"
      ]
    },
    {
      "cell_type": "code",
      "execution_count": null,
      "metadata": {
        "collapsed": false
      },
      "outputs": [],
      "source": [
        "spikes = nwb[\"units\"]\nprint(spikes)"
      ]
    },
    {
      "cell_type": "markdown",
      "metadata": {},
      "source": [
        "In this case, the TsGroup holds 15 neurons and it is possible to access, similar to a dictionnary, the spike times of a single neuron:\n\n"
      ]
    },
    {
      "cell_type": "code",
      "execution_count": null,
      "metadata": {
        "collapsed": false
      },
      "outputs": [],
      "source": [
        "neuron_0 = spikes[0]\nprint(neuron_0)"
      ]
    },
    {
      "cell_type": "markdown",
      "metadata": {},
      "source": [
        "`neuron_0` is a [Ts](https://pynapple-org.github.io/pynapple/core.time_series/#pynapple.core.time_series.Ts) object containing the times of the spikes.\n\n"
      ]
    },
    {
      "cell_type": "markdown",
      "metadata": {},
      "source": [
        "The other information about the session is contained in `nwb[\"epochs\"]`. In this case, the start and end of the sleep and wake epochs. If the NWB time intervals contains tags of the epochs, pynapple will try to group them together and return a dictionnary of IntervalSet instead of IntervalSet.\n\n"
      ]
    },
    {
      "cell_type": "code",
      "execution_count": null,
      "metadata": {
        "collapsed": false
      },
      "outputs": [],
      "source": [
        "epochs = nwb[\"epochs\"]\nprint(epochs)"
      ]
    },
    {
      "cell_type": "markdown",
      "metadata": {},
      "source": [
        "Finally this dataset contains tracking of the animal in the environment. `rx`, `ry`, `rz` represent respectively the roll, the yaw and the pitch of the head of the animal. `x` and `z` represent the position of the animal in the horizontal plane while `y` represents the elevation.\nHere we load only the head-direction as a Tsd object.\n\n"
      ]
    },
    {
      "cell_type": "code",
      "execution_count": null,
      "metadata": {
        "collapsed": false
      },
      "outputs": [],
      "source": [
        "head_direction = nwb[\"ry\"]\nprint(head_direction)"
      ]
    },
    {
      "cell_type": "markdown",
      "metadata": {},
      "source": [
        "***\nCore\n-----------------\nThe core functions of pynapple provides many ways to manipulate time series. In this example, spike times are restricted to the wake epoch. Notice how the frequencies change from the original object.\n\n"
      ]
    },
    {
      "cell_type": "code",
      "execution_count": null,
      "metadata": {
        "collapsed": false
      },
      "outputs": [],
      "source": [
        "wake_ep = epochs[\"wake\"]\n\nspikes_wake = spikes.restrict(wake_ep)\nprint(spikes_wake)"
      ]
    },
    {
      "cell_type": "markdown",
      "metadata": {},
      "source": [
        "The same operation can be applied to all time series.\n\n"
      ]
    },
    {
      "cell_type": "code",
      "execution_count": null,
      "metadata": {
        "collapsed": false
      },
      "outputs": [],
      "source": [
        "# In this example, we want all the epochs for which position in `x` is above a certain threhsold. For this we use the function `threshold`.\nposx = nwb[\"x\"]\n\nthreshold = 0.08\n\nposxpositive = posx.threshold(threshold)\n\nplt.figure()\nplt.plot(posx)\nplt.plot(posxpositive, \".\")\nplt.axhline(threshold)\nplt.xlabel(\"Time (s)\")\nplt.ylabel(\"x\")\nplt.title(\"x > {}\".format(threshold))\nplt.tight_layout()\nplt.show()"
      ]
    },
    {
      "cell_type": "markdown",
      "metadata": {},
      "source": [
        "The epochs above the threshold can be accessed through the **time support** of the Tsd object. The time support is an important concept in the pynapple package. It helps the user to define the epochs for which the time serie should be defined. By default, Ts, Tsd and TsGroup objects possess a time support (defined as an IntervalSet). It is recommended to pass the time support when instantiating one of those objects.\n\n"
      ]
    },
    {
      "cell_type": "code",
      "execution_count": null,
      "metadata": {
        "collapsed": false
      },
      "outputs": [],
      "source": [
        "epochs_above_thr = posxpositive.time_support\nprint(epochs_above_thr)"
      ]
    },
    {
      "cell_type": "markdown",
      "metadata": {},
      "source": [
        "***\nTuning curves\n-------------\nLet's do a more advanced analysis. Neurons from ADn (group 0 in the `spikes` group object) are know to fire for a particular direction. Therefore, we can compute their tuning curves, i.e. their firing rates as a function of the head-direction of the animal in the horizontal plane (*ry*). To do this, we can use the function [`compute_1d_tuning_curves`](https://pynapple-org.github.io/pynapple/process.tuning_curves/#pynapple.process.tuning_curves.compute_1d_tuning_curves). In this case, the tuning curves are computed over 120 bins and between 0 and 2$\\pi$.\n\n"
      ]
    },
    {
      "cell_type": "code",
      "execution_count": null,
      "metadata": {
        "collapsed": false
      },
      "outputs": [],
      "source": [
        "tuning_curves = nap.compute_1d_tuning_curves(\n    group=spikes, feature=head_direction, nb_bins=121, minmax=(0, 2 * np.pi)\n)\n\nprint(tuning_curves)"
      ]
    },
    {
      "cell_type": "markdown",
      "metadata": {},
      "source": [
        "We can plot tuning curves in polar plots.\n\n"
      ]
    },
    {
      "cell_type": "code",
      "execution_count": null,
      "metadata": {
        "collapsed": false
      },
      "outputs": [],
      "source": [
        "neuron_location = spikes.get_info(\"location\")  # to know where the neuron was recorded\nplt.figure(figsize=(12, 9))\n\nfor i, n in enumerate(tuning_curves.columns):\n    plt.subplot(3, 5, i + 1, projection=\"polar\")\n    plt.plot(tuning_curves[n])\n    plt.title(neuron_location[n] + \"-\" + str(n), fontsize=18)\n\nplt.tight_layout()\nplt.show()"
      ]
    },
    {
      "cell_type": "markdown",
      "metadata": {},
      "source": [
        "While ADN neurons show obvious modulation for head-direction, it is not obvious for all CA1 cells. Therefore we want to restrict the remaining of the analyses to only ADN neurons. We can split the `spikes` group with the function [`getby_category`](https://pynapple-org.github.io/pynapple/core.ts_group/#pynapple.core.ts_group.TsGroup.getby_category).\n\n"
      ]
    },
    {
      "cell_type": "code",
      "execution_count": null,
      "metadata": {
        "collapsed": false
      },
      "outputs": [],
      "source": [
        "spikes_by_location = spikes.getby_category(\"location\")\n\nprint(spikes_by_location[\"adn\"])\nprint(spikes_by_location[\"ca1\"])\n\nspikes_adn = spikes_by_location[\"adn\"]"
      ]
    },
    {
      "cell_type": "markdown",
      "metadata": {},
      "source": [
        "***\nCorrelograms\n------------\nA classical question with head-direction cells is how pairs stay coordinated across brain states i.e. wake vs sleep (see Peyrache, A., Lacroix, M. M., Petersen, P. C., & Buzs\u00e1ki, G. (2015). Internally organized mechanisms of the head direction sense. Nature neuroscience, 18(4), 569-575.)\n\nIn this example, this coordination across brain states will be evaluated with cross-correlograms of pairs of neurons. We can call the function [`compute_crosscorrelogram`](https://pynapple-org.github.io/pynapple/process.correlograms/#pynapple.process.correlograms.compute_crosscorrelogram) during both sleep and wake epochs.\n\n"
      ]
    },
    {
      "cell_type": "code",
      "execution_count": null,
      "metadata": {
        "collapsed": false
      },
      "outputs": [],
      "source": [
        "cc_wake = nap.compute_crosscorrelogram(\n    group=spikes_adn,\n    binsize=20,  # ms\n    windowsize=4000,  # ms\n    ep=epochs[\"wake\"],\n    norm=True,\n    time_units=\"ms\",\n)\n\ncc_sleep = nap.compute_crosscorrelogram(\n    group=spikes_adn,\n    binsize=5,  # ms\n    windowsize=400,  # ms\n    ep=epochs[\"sleep\"],\n    norm=True,\n    time_units=\"ms\",\n)"
      ]
    },
    {
      "cell_type": "markdown",
      "metadata": {},
      "source": [
        "From the previous figure, we can see that neurons 0 and 1 fires for opposite directions during wake. Therefore we expect their cross-correlograms to show a trough around 0 time lag, meaning those two neurons do not fire spikes together. A similar trough during sleep for the same pair thus indicates a persistence of their coordination even if the animal is not moving its head.\nmkdocs_gallery_thumbnail_number = 3\n\n"
      ]
    },
    {
      "cell_type": "code",
      "execution_count": null,
      "metadata": {
        "collapsed": false
      },
      "outputs": [],
      "source": [
        "xtwake = cc_wake.index.values\nxtsleep = cc_sleep.index.values\n\nplt.figure(figsize=(15, 5))\nplt.subplot(131, projection=\"polar\")\nplt.plot(tuning_curves[[0, 1]])  # The tuning curves of the pair [0,1]\nplt.subplot(132)\nplt.fill_between(\n    xtwake, np.zeros_like(xtwake), cc_wake[(0, 1)].values, color=\"darkgray\"\n)\nplt.title(\"wake\")\nplt.xlabel(\"Time (ms)\")\nplt.ylabel(\"CC\")\nplt.subplot(133)\nplt.fill_between(\n    xtsleep, np.zeros_like(xtsleep), cc_sleep[(0, 1)].values, color=\"lightgrey\"\n)\nplt.title(\"sleep\")\nplt.xlabel(\"Time (ms)\")\nplt.ylabel(\"CC\")\nplt.tight_layout()\nplt.show()"
      ]
    },
    {
      "cell_type": "markdown",
      "metadata": {},
      "source": [
        "***\nDecoding\n--------\nThis last analysis shows how to use the pynapple's decoding function.\n\nThe previous result indicates a persistent coordination of head-direction cells during sleep. Therefore it is possible to decode a virtual head-direction signal even if the animal is not moving its head.\nThis example uses the function [`decode_1d`](https://pynapple-org.github.io/pynapple/process.decoding/#pynapple.process.decoding.decode_1d) which implements bayesian decoding (see : Zhang, K., Ginzburg, I., McNaughton, B. L., & Sejnowski, T. J. (1998). Interpreting neuronal population activity by reconstruction: unified framework with application to hippocampal place cells. Journal of neurophysiology, 79(2), 1017-1044.)\n\nFirst we can validate the decoding function with the real position of the head of the animal during wake.\n\n"
      ]
    },
    {
      "cell_type": "code",
      "execution_count": null,
      "metadata": {
        "collapsed": false
      },
      "outputs": [],
      "source": [
        "tuning_curves_adn = nap.compute_1d_tuning_curves(\n    spikes_adn, head_direction, nb_bins=61, minmax=(0, 2 * np.pi)\n)\n\ndecoded, proba_angle = nap.decode_1d(\n    tuning_curves=tuning_curves_adn,\n    group=spikes_adn,\n    ep=epochs[\"wake\"],\n    bin_size=0.3,  # second\n    feature=head_direction,\n)\nprint(decoded)"
      ]
    },
    {
      "cell_type": "markdown",
      "metadata": {},
      "source": [
        "We can plot the decoded head-direction along with the true head-direction.\n\n"
      ]
    },
    {
      "cell_type": "code",
      "execution_count": null,
      "metadata": {
        "collapsed": false
      },
      "outputs": [],
      "source": [
        "plt.figure(figsize=(20, 5))\nplt.plot(head_direction.as_units(\"s\"), label=\"True\")\nplt.plot(decoded.as_units(\"s\"), label=\"Decoded\")\nplt.legend()\nplt.xlabel(\"Time (s)\")\nplt.ylabel(\"Head-direction (rad)\")\nplt.show()"
      ]
    },
    {
      "cell_type": "markdown",
      "metadata": {},
      "source": [
        "***\nRaster\n------\nFinally we can decode activity during sleep and overlay spiking activity of ADN neurons as a raster plot (in this case only during the first 4 seconds). Pynapple return as well the probability of being in a particular state. We can display it next to the spike train.\n\nFirst let's decode during sleep with a bin size of 40 ms.\n\n"
      ]
    },
    {
      "cell_type": "code",
      "execution_count": null,
      "metadata": {
        "collapsed": false
      },
      "outputs": [],
      "source": [
        "decoded_sleep, proba_angle_Sleep = nap.decode_1d(\n    tuning_curves=tuning_curves_adn,\n    group=spikes_adn,\n    ep=epochs[\"sleep\"],\n    bin_size=0.04,  # second\n    feature=head_direction,\n)"
      ]
    },
    {
      "cell_type": "markdown",
      "metadata": {},
      "source": [
        "Here we are gonna chain the TsGroup function [`set_info`](https://pynapple-org.github.io/pynapple/core.ts_group/#pynapple.core.ts_group.TsGroup.set_info) and the function [`to_tsd`](https://pynapple-org.github.io/pynapple/core.ts_group/#pynapple.core.ts_group.TsGroup.to_tsd) to flatten the TsGroup and quickly assign to each spikes a corresponding value found in the metadata table. Any columns of the metadata table can be assigned to timestamps in a TsGroup.\n\nHere the value assign to the spikes comes from the preferred firing direction of the neurons. The following line is a quick way to sort the neurons based on their preferred firing direction\n\n"
      ]
    },
    {
      "cell_type": "code",
      "execution_count": null,
      "metadata": {
        "collapsed": false
      },
      "outputs": [],
      "source": [
        "order = np.argsort(np.argmax(tuning_curves_adn.values, 0))\nprint(order)"
      ]
    },
    {
      "cell_type": "markdown",
      "metadata": {},
      "source": [
        "Assigning order as a metadata of TsGroup\n\n"
      ]
    },
    {
      "cell_type": "code",
      "execution_count": null,
      "metadata": {
        "collapsed": false
      },
      "outputs": [],
      "source": [
        "spikes_adn.set_info(order=order)\nprint(spikes_adn)"
      ]
    },
    {
      "cell_type": "markdown",
      "metadata": {},
      "source": [
        "\"Flattening\" the TsGroup to a Tsd based on `order`.\nIt's then very easy to call plot on `tsd_adn` to display the raster\n\n"
      ]
    },
    {
      "cell_type": "code",
      "execution_count": null,
      "metadata": {
        "collapsed": false
      },
      "outputs": [],
      "source": [
        "tsd_adn = spikes_adn.to_tsd(\"order\")\nprint(tsd_adn)"
      ]
    },
    {
      "cell_type": "markdown",
      "metadata": {},
      "source": [
        "Plotting everything\n\n"
      ]
    },
    {
      "cell_type": "code",
      "execution_count": null,
      "metadata": {
        "collapsed": false
      },
      "outputs": [],
      "source": [
        "subep = nap.IntervalSet(start=0, end=10, time_units=\"s\")\n\nplt.figure(figsize=(19, 10))\nplt.subplot(211)\nplt.plot(tsd_adn.restrict(subep), \"|\", markersize=20)\nplt.xlim(subep.start[0], subep.end[0])\nplt.ylabel(\"Order\")\nplt.title(\"Decoding during sleep\")\nplt.subplot(212)\np = proba_angle_Sleep.restrict(subep)\nplt.imshow(p.values.T, aspect=\"auto\", origin=\"lower\", cmap=\"viridis\")\nplt.title(\"Probability\")\nplt.xticks([0, p.shape[0] - 1], subep.values[0])\nplt.yticks([0, p.shape[1]], [\"0\", \"360\"])\nplt.legend()\nplt.xlabel(\"Time (s)\")\nplt.ylabel(\"Head-direction (deg)\")\nplt.legend()\nplt.show()"
      ]
    }
  ],
  "metadata": {
    "kernelspec": {
      "display_name": "Python 3",
      "language": "python",
      "name": "python3"
    },
    "language_info": {
      "codemirror_mode": {
        "name": "ipython",
        "version": 3
      },
      "file_extension": ".py",
      "mimetype": "text/x-python",
      "name": "python",
      "nbconvert_exporter": "python",
      "pygments_lexer": "ipython3",
      "version": "3.10.12"
    }
  },
  "nbformat": 4,
  "nbformat_minor": 0
}