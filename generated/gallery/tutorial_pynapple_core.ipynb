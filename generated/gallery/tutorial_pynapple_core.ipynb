{
  "cells": [
    {
      "cell_type": "code",
      "execution_count": null,
      "metadata": {
        "collapsed": false
      },
      "outputs": [],
      "source": [
        "%matplotlib inline"
      ]
    },
    {
      "cell_type": "markdown",
      "metadata": {},
      "source": [
        "\nCore Tutorial\n============\n\nThis script will introduce the basics of handling time series data with pynapple.\n"
      ]
    },
    {
      "cell_type": "markdown",
      "metadata": {},
      "source": [
        "!!! warning\n    This tutorial uses seaborn and matplotlib for displaying the figure.\n\n    You can install both with `pip install matplotlib seaborn`\n\n"
      ]
    },
    {
      "cell_type": "code",
      "execution_count": null,
      "metadata": {
        "collapsed": false
      },
      "outputs": [],
      "source": [
        "import numpy as np\nimport matplotlib.pyplot as plt\nimport pynapple as nap\nimport pandas as pd\nimport seaborn as sns\n\ncustom_params = {\"axes.spines.right\": False, \"axes.spines.top\": False}\nsns.set_theme(style=\"ticks\", palette=\"colorblind\", font_scale=1.5, rc=custom_params)"
      ]
    },
    {
      "cell_type": "markdown",
      "metadata": {},
      "source": [
        "***\nTime series object\n------------------\n\nLet's create a Tsd object with artificial data. In this example, every time point is 1 second apart.\n\n"
      ]
    },
    {
      "cell_type": "code",
      "execution_count": null,
      "metadata": {
        "collapsed": false
      },
      "outputs": [],
      "source": [
        "tsd = nap.Tsd(t=np.arange(100), d=np.random.rand(100), time_units=\"s\")\n\nprint(tsd)"
      ]
    },
    {
      "cell_type": "markdown",
      "metadata": {},
      "source": [
        "It is possible to toggle between seconds, milliseconds and microseconds. Note that when using *as_units*, the returned object is a simple pandas series.\n\n"
      ]
    },
    {
      "cell_type": "code",
      "execution_count": null,
      "metadata": {
        "collapsed": false
      },
      "outputs": [],
      "source": [
        "print(tsd.as_units(\"ms\"), \"\\n\")\nprint(tsd.as_units(\"us\"))"
      ]
    },
    {
      "cell_type": "markdown",
      "metadata": {},
      "source": [
        "Pynapple is able to handle data that only contains timestamps, such as an object containing only spike times. To do so, we construct a Ts object which holds only times. In this case, we generate 10 random spike times between 0 and 100 ms.\n\n"
      ]
    },
    {
      "cell_type": "code",
      "execution_count": null,
      "metadata": {
        "collapsed": false
      },
      "outputs": [],
      "source": [
        "ts = nap.Ts(t=np.sort(np.random.uniform(0, 100, 10)), time_units=\"ms\")\n\nprint(ts)"
      ]
    },
    {
      "cell_type": "markdown",
      "metadata": {},
      "source": [
        "If the time series contains multiple columns, we use a TsdFrame.\n\n"
      ]
    },
    {
      "cell_type": "code",
      "execution_count": null,
      "metadata": {
        "collapsed": false
      },
      "outputs": [],
      "source": [
        "tsdframe = nap.TsdFrame(\n    t=np.arange(100), d=np.random.rand(100, 3), time_units=\"s\", columns=[\"a\", \"b\", \"c\"]\n)\n\nprint(tsdframe)"
      ]
    },
    {
      "cell_type": "markdown",
      "metadata": {},
      "source": [
        "And if the number of dimension is even larger, we can use the TsdTensor (typically movies).\n\n"
      ]
    },
    {
      "cell_type": "code",
      "execution_count": null,
      "metadata": {
        "collapsed": false
      },
      "outputs": [],
      "source": [
        "tsdframe = nap.TsdTensor(\n    t=np.arange(100), d=np.random.rand(100, 3, 4)\n)\n\nprint(tsdframe)"
      ]
    },
    {
      "cell_type": "markdown",
      "metadata": {},
      "source": [
        "***\nInterval Sets object\n--------------------\n\nThe [IntervalSet](https://peyrachelab.github.io/pynapple/core.interval_set/) object stores multiple epochs with a common time unit. It can then be used to restrict time series to this particular set of epochs.\n\n"
      ]
    },
    {
      "cell_type": "code",
      "execution_count": null,
      "metadata": {
        "collapsed": false
      },
      "outputs": [],
      "source": [
        "epochs = nap.IntervalSet(start=[0, 10], end=[5, 15], time_units=\"s\")\n\nnew_tsd = tsd.restrict(epochs)\n\nprint(epochs)\nprint(\"\\n\")\nprint(new_tsd)"
      ]
    },
    {
      "cell_type": "markdown",
      "metadata": {},
      "source": [
        "Multiple operations are available for IntervalSet. For example, IntervalSet can be merged. See the full documentation of the class [here](https://peyrachelab.github.io/pynapple/core.interval_set/#pynapple.core.interval_set.IntervalSet.intersect) for a list of all the functions that can be used to manipulate IntervalSets.\n\n"
      ]
    },
    {
      "cell_type": "code",
      "execution_count": null,
      "metadata": {
        "collapsed": false
      },
      "outputs": [],
      "source": [
        "epoch1 = nap.IntervalSet(start=0, end=10)  # no time units passed. Default is us.\nepoch2 = nap.IntervalSet(start=[5, 30], end=[20, 45])\n\nepoch = epoch1.union(epoch2)\nprint(epoch1, \"\\n\")\nprint(epoch2, \"\\n\")\nprint(epoch)"
      ]
    },
    {
      "cell_type": "markdown",
      "metadata": {},
      "source": [
        "***\nTsGroup object\n--------------\n\nMultiple time series with different time stamps (.i.e. a group of neurons with different spike times from one session) can be grouped with the TsGroup object. The TsGroup behaves like a dictionary but it is also possible to slice with a list of indexes\n\n"
      ]
    },
    {
      "cell_type": "code",
      "execution_count": null,
      "metadata": {
        "collapsed": false
      },
      "outputs": [],
      "source": [
        "my_ts = {\n    0: nap.Ts(\n        t=np.sort(np.random.uniform(0, 100, 1000)), time_units=\"s\"\n    ),  # here a simple dictionary\n    1: nap.Ts(t=np.sort(np.random.uniform(0, 100, 2000)), time_units=\"s\"),\n    2: nap.Ts(t=np.sort(np.random.uniform(0, 100, 3000)), time_units=\"s\"),\n}\n\ntsgroup = nap.TsGroup(my_ts)\n\nprint(tsgroup, \"\\n\")\nprint(tsgroup[0], \"\\n\")  # dictionary like indexing returns directly the Ts object\nprint(tsgroup[[0, 2]])  # list like indexing"
      ]
    },
    {
      "cell_type": "markdown",
      "metadata": {},
      "source": [
        "Operations such as restrict can thus be directly applied to the TsGroup as well as other operations.\n\n"
      ]
    },
    {
      "cell_type": "code",
      "execution_count": null,
      "metadata": {
        "collapsed": false
      },
      "outputs": [],
      "source": [
        "newtsgroup = tsgroup.restrict(epochs)\n\ncount = tsgroup.count(\n    1, epochs, time_units=\"s\"\n)  # Here counting the elements within bins of 1 seconds\n\nprint(count)"
      ]
    },
    {
      "cell_type": "markdown",
      "metadata": {},
      "source": [
        "One advantage of grouping time series is that metainformation can be appended directly on an element-wise basis. In this case, we add labels to each Ts object when instantiating the group and after. We can then use this label to split the group. See the [TsGroup](https://peyrachelab.github.io/pynapple/core.ts_group/) documentation for a complete methodology for splitting TsGroup objects.\n\n"
      ]
    },
    {
      "cell_type": "code",
      "execution_count": null,
      "metadata": {
        "collapsed": false
      },
      "outputs": [],
      "source": [
        "label1 = pd.Series(index=list(my_ts.keys()), data=[0, 1, 0])\n\ntsgroup = nap.TsGroup(my_ts, time_units=\"s\", label1=label1)\ntsgroup.set_info(label2=np.array([\"a\", \"a\", \"b\"]))\n\nprint(tsgroup, \"\\n\")\n\nnewtsgroup = tsgroup.getby_category(\"label1\")\nprint(newtsgroup[0], \"\\n\")\nprint(newtsgroup[1])"
      ]
    },
    {
      "cell_type": "markdown",
      "metadata": {},
      "source": [
        "***\nTime support\n------------\n\nA key feature of how pynapple manipulates time series is an inherent time support object defined for Ts, Tsd, TsdFrame and TsGroup objects. The time support object is defined as an IntervalSet that provides the time serie with a context. For example, the restrict operation will automatically update the time support object for the new time series. Ideally, the time support object should be defined for all time series when instantiating them. If no time series is given, the time support is inferred from the start and end of the time series.\n\nIn this example, a TsGroup is instantiated with and without a time support. Notice how the frequency of each Ts element is changed when the time support is defined explicitly.\n\n"
      ]
    },
    {
      "cell_type": "code",
      "execution_count": null,
      "metadata": {
        "collapsed": false
      },
      "outputs": [],
      "source": [
        "time_support = nap.IntervalSet(start=0, end=200, time_units=\"s\")\n\nmy_ts = {\n    0: nap.Ts(\n        t=np.sort(np.random.uniform(0, 100, 10)), time_units=\"s\"\n    ),  # here a simple dictionnary\n    1: nap.Ts(t=np.sort(np.random.uniform(0, 100, 20)), time_units=\"s\"),\n    2: nap.Ts(t=np.sort(np.random.uniform(0, 100, 30)), time_units=\"s\"),\n}\n\ntsgroup = nap.TsGroup(my_ts)\n\ntsgroup_with_time_support = nap.TsGroup(my_ts, time_support=time_support)\n\nprint(tsgroup, \"\\n\")\n\nprint(tsgroup_with_time_support, \"\\n\")\n\nprint(tsgroup_with_time_support.time_support)  # acceding the time support"
      ]
    },
    {
      "cell_type": "markdown",
      "metadata": {},
      "source": [
        "We can use value_from which as it indicates assign to every timestamps the closed value in time from another time series.\nLet's define the time series we want to assign values from.\n\n"
      ]
    },
    {
      "cell_type": "code",
      "execution_count": null,
      "metadata": {
        "collapsed": false
      },
      "outputs": [],
      "source": [
        "tsd_sin = nap.Tsd(t=np.arange(0, 100, 1), d=np.sin(np.arange(0, 10, 0.1)))\n\ntsgroup_sin = tsgroup.value_from(tsd_sin)\n\nplt.figure(figsize=(12, 6))\nplt.plot(tsgroup[0].fillna(0), \"|\", markersize=20, mew=3)\nplt.plot(tsd_sin, linewidth=2)\nplt.plot(tsgroup_sin[0], \"o\", markersize=20)\nplt.title(\"ts.value_from(tsd)\")\nplt.xlabel(\"Time (s)\")\nplt.yticks([-1, 0, 1])\nplt.show()"
      ]
    }
  ],
  "metadata": {
    "kernelspec": {
      "display_name": "Python 3",
      "language": "python",
      "name": "python3"
    },
    "language_info": {
      "codemirror_mode": {
        "name": "ipython",
        "version": 3
      },
      "file_extension": ".py",
      "mimetype": "text/x-python",
      "name": "python",
      "nbconvert_exporter": "python",
      "pygments_lexer": "ipython3",
      "version": "3.11.5"
    }
  },
  "nbformat": 4,
  "nbformat_minor": 0
}