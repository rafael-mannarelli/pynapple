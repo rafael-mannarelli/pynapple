{
  "cells": [
    {
      "cell_type": "code",
      "execution_count": null,
      "metadata": {
        "collapsed": false
      },
      "outputs": [],
      "source": [
        "%matplotlib inline"
      ]
    },
    {
      "cell_type": "markdown",
      "metadata": {},
      "source": [
        "\nCalcium Imaging\n============\n\nWorking with calcium data.\n\nFor the example dataset, we will be working with a recording of a freely-moving mouse imaged with a Miniscope (1-photon imaging). The area recorded for this experiment is the postsubiculum - a region that is known to contain head-direction cells, or cells that fire when the animal's head is pointing in a specific direction.\n\nThe NWB file for the example is hosted on [OSF](https://osf.io/sbnaw). We show below how to stream it.\n\nSee the [documentation](https://pynapple-org.github.io/pynapple/) of Pynapple for instructions on installing the package.\n\nThis tutorial was made by Sofia Skromne Carrasco and Guillaume Viejo.\n"
      ]
    },
    {
      "cell_type": "markdown",
      "metadata": {},
      "source": [
        "!!! warning\n    This tutorial uses seaborn and matplotlib for displaying the figure\n\n    You can install all with `pip install matplotlib seaborn tqdm`\n\nmkdocs_gallery_thumbnail_number = 1\n\nNow, import the necessary libraries:\n\n"
      ]
    },
    {
      "cell_type": "code",
      "execution_count": null,
      "metadata": {
        "collapsed": false
      },
      "outputs": [],
      "source": [
        "import numpy as pd\nimport pynapple as nap\nimport matplotlib.pyplot as plt\nimport seaborn as sns\nimport sys, os\nimport requests, math\nimport tqdm\n\ncustom_params = {\"axes.spines.right\": False, \"axes.spines.top\": False}\nsns.set_theme(style=\"ticks\", palette=\"colorblind\", font_scale=1.5, rc=custom_params)"
      ]
    },
    {
      "cell_type": "markdown",
      "metadata": {},
      "source": [
        "***\nDownloading the data\n------------------\nFirst things first: Let's find our file\n\n"
      ]
    },
    {
      "cell_type": "code",
      "execution_count": null,
      "metadata": {
        "collapsed": false
      },
      "outputs": [],
      "source": [
        "path = \"A0670-221213.nwb\"\nif path not in os.listdir(\".\"):\n  r = requests.get(f\"https://osf.io/sbnaw/download\", stream=True)\n  block_size = 1024*1024\n  with open(path, 'wb') as f:\n    for data in tqdm.tqdm(r.iter_content(block_size), unit='MB', unit_scale=True,\n      total=math.ceil(int(r.headers.get('content-length', 0))//block_size)):\n      f.write(data)"
      ]
    },
    {
      "cell_type": "markdown",
      "metadata": {},
      "source": [
        "***\nParsing the data\n------------------\nNow that we have the file, let's load the data\n\n"
      ]
    },
    {
      "cell_type": "code",
      "execution_count": null,
      "metadata": {
        "collapsed": false
      },
      "outputs": [],
      "source": [
        "data = nap.load_file(path)\nprint(data)"
      ]
    },
    {
      "cell_type": "markdown",
      "metadata": {},
      "source": [
        "Let's save the RoiResponseSeries as a variable called 'transients' and print it\n\n"
      ]
    },
    {
      "cell_type": "code",
      "execution_count": null,
      "metadata": {
        "collapsed": false
      },
      "outputs": [],
      "source": [
        "transients = data['RoiResponseSeries']\nprint(transients)"
      ]
    },
    {
      "cell_type": "markdown",
      "metadata": {},
      "source": [
        "***\nPlotting the activity of one neuron\n-----------------------------------\nOur transients are saved as a (35757, 65) TsdFrame. Looking at the printed object, you can see that we have 35757 data points for each of our 65 regions of interest. We want to see which of these are head-direction cells, so we need to plot a tuning curve of fluorescence vs head-direction of the animal.\n\n\n"
      ]
    },
    {
      "cell_type": "code",
      "execution_count": null,
      "metadata": {
        "collapsed": false
      },
      "outputs": [],
      "source": [
        "plt.figure(figsize=(6, 2))\nplt.plot(transients[0:2000,0], linewidth=5)\nplt.xlabel(\"Time (s)\")\nplt.ylabel(\"Fluorescence\")\nplt.show()"
      ]
    },
    {
      "cell_type": "markdown",
      "metadata": {},
      "source": [
        "Here we extract the head-direction as a variable called angle\n\n"
      ]
    },
    {
      "cell_type": "code",
      "execution_count": null,
      "metadata": {
        "collapsed": false
      },
      "outputs": [],
      "source": [
        "angle = data['ry']\nprint(angle)"
      ]
    },
    {
      "cell_type": "markdown",
      "metadata": {},
      "source": [
        "As you can see, we have a longer recording for our tracking of the animal's head than we do for our calcium imaging - something to keep in mind.\n\n"
      ]
    },
    {
      "cell_type": "code",
      "execution_count": null,
      "metadata": {
        "collapsed": false
      },
      "outputs": [],
      "source": [
        "print(transients.time_support)\nprint(angle.time_support)"
      ]
    },
    {
      "cell_type": "markdown",
      "metadata": {},
      "source": [
        "***\nCalcium tuning curves\n---------------------\nHere we compute the tuning curves of all the neurons\n\n"
      ]
    },
    {
      "cell_type": "code",
      "execution_count": null,
      "metadata": {
        "collapsed": false
      },
      "outputs": [],
      "source": [
        "tcurves = nap.compute_1d_tuning_curves_continuous(transients, angle, nb_bins = 120)\n\nprint(tcurves)"
      ]
    },
    {
      "cell_type": "markdown",
      "metadata": {},
      "source": [
        "We now have a DataFrame, where our index is the angle of the animal's head in radians, and each column represents the tuning curve of each region of interest. We can plot one neuron.\n\n"
      ]
    },
    {
      "cell_type": "code",
      "execution_count": null,
      "metadata": {
        "collapsed": false
      },
      "outputs": [],
      "source": [
        "plt.figure()\nplt.plot(tcurves[4])\nplt.xlabel(\"Angle\")\nplt.ylabel(\"Fluorescence\")\nplt.show()"
      ]
    },
    {
      "cell_type": "markdown",
      "metadata": {},
      "source": [
        "It looks like this could be a head-direction cell. One important property of head-directions cells however, is that their firing with respect to head-direction is stable. To check for their stability, we can split our recording in two and compute a tuning curve for each half of the recording.\n\nWe start by finding the midpoint of the recording, using the function `get_intervals_center`. Using this, then create one new IntervalSet with two rows, one for each half of the recording.\n\n"
      ]
    },
    {
      "cell_type": "code",
      "execution_count": null,
      "metadata": {
        "collapsed": false
      },
      "outputs": [],
      "source": [
        "center = transients.time_support.get_intervals_center()\n\nhalves = nap.IntervalSet(\n\tstart = [transients.time_support.start[0], center.t[0]],\n    end = [center.t[0], transients.time_support.end[0]]\n    )"
      ]
    },
    {
      "cell_type": "markdown",
      "metadata": {},
      "source": [
        "Now we can compute the tuning curves for each half of the recording and plot the tuning curves for the fifth region of interest. \n\n"
      ]
    },
    {
      "cell_type": "code",
      "execution_count": null,
      "metadata": {
        "collapsed": false
      },
      "outputs": [],
      "source": [
        "half1 = nap.compute_1d_tuning_curves_continuous(transients, angle, nb_bins = 120, ep = halves.loc[[0]])\nhalf2 = nap.compute_1d_tuning_curves_continuous(transients, angle, nb_bins = 120, ep = halves.loc[[1]])\n\nplt.figure(figsize=(12, 5))\nplt.subplot(1,2,1)\nplt.plot(half1[4])\nplt.title(\"First half\")\nplt.xlabel(\"Angle\")\nplt.ylabel(\"Fluorescence\")\nplt.subplot(1,2,2)\nplt.plot(half2[4])\nplt.title(\"Second half\")\nplt.show()"
      ]
    }
  ],
  "metadata": {
    "kernelspec": {
      "display_name": "Python 3",
      "language": "python",
      "name": "python3"
    },
    "language_info": {
      "codemirror_mode": {
        "name": "ipython",
        "version": 3
      },
      "file_extension": ".py",
      "mimetype": "text/x-python",
      "name": "python",
      "nbconvert_exporter": "python",
      "pygments_lexer": "ipython3",
      "version": "3.10.12"
    }
  },
  "nbformat": 4,
  "nbformat_minor": 0
}